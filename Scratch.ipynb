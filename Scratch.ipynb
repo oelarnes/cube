{
 "cells": [
  {
   "cell_type": "code",
   "execution_count": 1,
   "metadata": {},
   "outputs": [],
   "source": [
    "import requests"
   ]
  },
  {
   "cell_type": "code",
   "execution_count": 2,
   "metadata": {},
   "outputs": [],
   "source": [
    "response = requests.get(f'https://cubecobra.com/cube/download/plaintext/ryan')"
   ]
  },
  {
   "cell_type": "code",
   "execution_count": 16,
   "metadata": {},
   "outputs": [
    {
     "data": {
      "text/plain": [
       "\"Lim-Dûl's Vault\\r\\nCre\""
      ]
     },
     "execution_count": 16,
     "metadata": {},
     "output_type": "execute_result"
    }
   ],
   "source": [
    "response.text[response.text.find('Lim'):response.text.find('Lim')+20]"
   ]
  },
  {
   "cell_type": "code",
   "execution_count": 9,
   "metadata": {},
   "outputs": [
    {
     "data": {
      "text/plain": [
       "{'Server': 'nginx/1.14.0 (Ubuntu)', 'Date': 'Fri, 03 Apr 2020 21:25:32 GMT', 'Content-Type': 'text/plain', 'Transfer-Encoding': 'chunked', 'X-Powered-By': 'Express', 'Content-disposition': 'attachment; filename=RyanSaxesBustedCube.txt', 'Set-Cookie': 'connect.sid=s%3AXKhNZfQTYp-FJn6rsRXz-x4sc0s9ZHja.RX5fbrTVlXsCG8AWpCn2hzzXwuSgbI20URhAbR78gJ4; Path=/; Expires=Fri, 10 Apr 2020 21:25:32 GMT; HttpOnly'}"
      ]
     },
     "execution_count": 9,
     "metadata": {},
     "output_type": "execute_result"
    }
   ],
   "source": [
    "response.headers"
   ]
  },
  {
   "cell_type": "code",
   "execution_count": 12,
   "metadata": {},
   "outputs": [
    {
     "data": {
      "text/plain": [
       "<Response [200]>"
      ]
     },
     "execution_count": 12,
     "metadata": {},
     "output_type": "execute_result"
    }
   ],
   "source": [
    "response"
   ]
  },
  {
   "cell_type": "code",
   "execution_count": 13,
   "metadata": {},
   "outputs": [
    {
     "data": {
      "text/plain": [
       "str"
      ]
     },
     "execution_count": 13,
     "metadata": {},
     "output_type": "execute_result"
    }
   ],
   "source": [
    "type(response.text)"
   ]
  },
  {
   "cell_type": "code",
   "execution_count": 14,
   "metadata": {},
   "outputs": [],
   "source": [
    "response.encoding = 'utf8'"
   ]
  },
  {
   "cell_type": "code",
   "execution_count": 15,
   "metadata": {},
   "outputs": [
    {
     "data": {
      "text/plain": [
       "\"Champion of the Parish\\r\\nDauntless Bodyguard\\r\\nDragon Hunter\\r\\nGiver of Runes\\r\\nKytheon, Hero of Akros\\r\\nMardu Woe-Reaper\\r\\nMother of Runes\\r\\nSoldier of the Pantheon\\r\\nStudent of Warfare\\r\\nThraben Inspector\\r\\nAccorder Paladin\\r\\nCharming Prince\\r\\nPaliano Vanguard\\r\\nSelfless Spirit\\r\\nStoneforge Mystic\\r\\nThalia's Lieutenant\\r\\nThalia, Guardian of Thraben\\r\\nVizier of Remedies\\r\\nBlade Splicer\\r\\nBrimaz, King of Oreskos\\r\\nFlickerwisp\\r\\nHallowed Spiritkeeper\\r\\nMonastery Mentor\\r\\nRanger-Captain of Eos\\r\\nRecruiter of the Guard\\r\\nThalia, Heretic Cathar\\r\\nHero of Bladehold\\r\\nPalace Jailer\\r\\nRestoration Angel\\r\\nAngel of Invention\\r\\nArchangel Avacyn\\r\\nReveillark\\r\\nSecure the Wastes\\r\\nElesh Norn, Grand Cenobite\\r\\nElspeth, Knight-Errant\\r\\nGideon, Ally of Zendikar\\r\\nSerra the Benevolent\\r\\nGideon Jura\\r\\nElspeth, Sun's Champion\\r\\nEnlightened Tutor\\r\\nMana Tithe\\r\\nPath to Exile\\r\\nSwords to Plowshares\\r\\nUnexpectedly Absent\\r\\nSettle the Wreckage\\r\\nBalance\\r\\nDeclaration in Stone\\r\\nWinds of Abandon\\r\\nCouncil's Judgment\\r\\nArmageddon\\r\\nDay of Judgment\\r\\nRavages of War\\r\\nWrath of God\\r\\nApproach of the Second Sun\\r\\nJourney to Nowhere\\r\\nBanishing Light\\r\\nOblivion Ring\\r\\nKarakas\\r\\nJace, Vryn's Prodigy\\r\\nLooter il-Kor\\r\\nPhantasmal Image\\r\\nSnapcaster Mage\\r\\nThing in the Ice\\r\\nArcane Artisan\\r\\nChampion of Wits\\r\\nDeceiver Exarch\\r\\nExclusion Mage\\r\\nPestermite\\r\\nVendilion Clique\\r\\nGlen Elendra Archmage\\r\\nGod-Eternal Kefnet\\r\\nUrza, Lord High Artificer\\r\\nVenser, Shaper Savant\\r\\nMulldrifter\\r\\nConsecrated Sphinx\\r\\nNarset, Parter of Veils\\r\\nJace, the Mind Sculptor\\r\\nTezzeret the Seeker\\r\\nTezzeret, Artifice Master\\r\\nTorrential Gearhulk\\r\\nInkwell Leviathan\\r\\nVedalken Shackles\\r\\nForce of Will\\r\\nBrainstorm\\r\\nForce Spike\\r\\nMystical Tutor\\r\\nCounterspell\\r\\nDaze\\r\\nImpulse\\r\\nMana Leak\\r\\nMemory Lapse\\r\\nMiscalculation\\r\\nRemand\\r\\nForbid\\r\\nForce of Negation\\r\\nCommit // Memory\\r\\nCryptic Command\\r\\nFact or Fiction\\r\\nGifts Ungiven\\r\\nMystic Confluence\\r\\nNexus of Fate\\r\\nDig Through Time\\r\\nPonder\\r\\nPreordain\\r\\nSerum Visions\\r\\nChart a Course\\r\\nCompulsive Research\\r\\nShow and Tell\\r\\nTimetwister\\r\\nTinker\\r\\nTime Warp\\r\\nTime Spiral\\r\\nUpheaval\\r\\nTreasure Cruise\\r\\nSearch for Azcanta\\r\\nControl Magic\\r\\nOpposition\\r\\nParallax Tide\\r\\nTreachery\\r\\nShelldock Isle\\r\\nTolarian Academy\\r\\nBloodsoaked Champion\\r\\nCarrion Feeder\\r\\nDiregraf Ghoul\\r\\nDread Wanderer\\r\\nGravecrawler\\r\\nGutterbones\\r\\nSarcomancy\\r\\nVampire Lacerator\\r\\nViscera Seer\\r\\nBlood Artist\\r\\nBloodghast\\r\\nDark Confidant\\r\\nKitesail Freebooter\\r\\nOona's Prowler\\r\\nPack Rat\\r\\nFlesh Carver\\r\\nGeralf's Messenger\\r\\nLiliana, Heretical Healer\\r\\nOphiomancer\\r\\nRotting Regisaur\\r\\nBraids, Cabal Minion\\r\\nRankle, Master of Pranks\\r\\nRavenous Chupacabra\\r\\nYawgmoth, Thran Physician\\r\\nCustodi Lich\\r\\nDoom Whisperer\\r\\nShriekmaw\\r\\nGrave Titan\\r\\nGriselbrand\\r\\nLiliana of the Veil\\r\\nLiliana, the Last Hope\\r\\nLiliana, Death's Majesty\\r\\nScrapheap Scrounger\\r\\nWishclaw Talisman\\r\\nDark Ritual\\r\\nEntomb\\r\\nFatal Push\\r\\nVampiric Tutor\\r\\nGo for the Throat\\r\\nLiliana's Triumph\\r\\nHero's Downfall\\r\\nSnuff Out\\r\\nDuress\\r\\nImperial Seal\\r\\nInquisition of Kozilek\\r\\nReanimate\\r\\nThoughtseize\\r\\nCollective Brutality\\r\\nDemonic Tutor\\r\\nHymn to Tourach\\r\\nToxic Deluge\\r\\nDamnation\\r\\nLiving Death\\r\\nAnimate Dead\\r\\nBitterblossom\\r\\nDance of the Dead\\r\\nAttrition\\r\\nContamination\\r\\nNecromancy\\r\\nNecropotence\\r\\nRecurring Nightmare\\r\\nVolrath's Stronghold\\r\\nFalkenrath Gorger\\r\\nFiredrinker Satyr\\r\\nGoblin Guide\\r\\nGoblin Welder\\r\\nGreater Gargadon\\r\\nGrim Lavamancer\\r\\nJackal Pup\\r\\nMonastery Swiftspear\\r\\nStromkirk Noble\\r\\nZurgo Bellstriker\\r\\nAbbot of Keral Keep\\r\\nDire Fleet Daredevil\\r\\nEarthshaker Khenra\\r\\nGenerator Servant\\r\\nGoblin Cratermaker\\r\\nGoblin Engineer\\r\\nKari Zev, Skyship Raider\\r\\nYoung Pyromancer\\r\\nGoblin Rabblemaster\\r\\nGoblin Sharpshooter\\r\\nHanweir Garrison\\r\\nImperial Recruiter\\r\\nKrenko, Tin Street Kingpin\\r\\nNajeela, the Blade-Blossom\\r\\nSeasoned Pyromancer\\r\\nFlametongue Kavu\\r\\nHazoret the Fervent\\r\\nHellrider\\r\\nPia and Kiran Nalaar\\r\\nKiki-Jiki, Mirror Breaker\\r\\nSiege-Gang Commander\\r\\nZealous Conscripts\\r\\nInferno Titan\\r\\nBedlam Reveler\\r\\nChandra, Torch of Defiance\\r\\nDaretti, Scrap Savant\\r\\nKoth of the Hammer\\r\\nChandra, Flamecaller\\r\\nBomat Courier\\r\\nFireblast\\r\\nBurst Lightning\\r\\nFirestorm\\r\\nLightning Bolt\\r\\nAbrade\\r\\nIncinerate\\r\\nPunishing Fire\\r\\nSearing Spear\\r\\nStaggershock\\r\\nThrough the Breach\\r\\nChain Lightning\\r\\nFaithless Looting\\r\\nFirebolt\\r\\nArc Trail\\r\\nArc Lightning\\r\\nWheel of Fortune\\r\\nFiery Confluence\\r\\nBurning of Xinye\\r\\nRolling Earthquake\\r\\nSubterranean Tremors\\r\\nWildfire\\r\\nGoblin Bombardment\\r\\nSulfuric Vortex\\r\\nExperimental Frenzy\\r\\nSneak Attack\\r\\nSplinter Twin\\r\\nAvacyn's Pilgrim\\r\\nBirds of Paradise\\r\\nElvish Mystic\\r\\nFyndhorn Elves\\r\\nGilded Goose\\r\\nHexdrinker\\r\\nJoraga Treespeaker\\r\\nLlanowar Elves\\r\\nNoble Hierarch\\r\\nDevoted Druid\\r\\nDuskwatch Recruiter\\r\\nFauna Shaman\\r\\nHermit Druid\\r\\nLotus Cobra\\r\\nMayor of Avabruck\\r\\nRofellos, Llanowar Emissary\\r\\nSakura-Tribe Elder\\r\\nScavenging Ooze\\r\\nSylvan Caryatid\\r\\nTarmogoyf\\r\\nWall of Roots\\r\\nDen Protector\\r\\nEternal Witness\\r\\nManglehorn\\r\\nRamunap Excavator\\r\\nReclamation Sage\\r\\nTireless Tracker\\r\\nMaster of the Wild Hunt\\r\\nOracle of Mul Daya\\r\\nQuesting Beast\\r\\nAcidic Slime\\r\\nDeep Forest Hermit\\r\\nDeranged Hermit\\r\\nThragtusk\\r\\nCarnage Tyrant\\r\\nPrimeval Titan\\r\\nHornet Queen\\r\\nVoracious Hydra\\r\\nCraterhoof Behemoth\\r\\nTerastodon\\r\\nWoodfall Primus\\r\\nNissa, Voice of Zendikar\\r\\nGarruk Relentless\\r\\nGarruk Wildspeaker\\r\\nNissa, Who Shakes the World\\r\\nVerdurous Gearhulk\\r\\nBirthing Pod\\r\\nThe Great Henge\\r\\nWorldly Tutor\\r\\nConstant Mists\\r\\nOnce Upon a Time\\r\\nBeast Within\\r\\nLife from the Loam\\r\\nRegrowth\\r\\nNatural Order\\r\\nPlow Under\\r\\nGreen Sun's Zenith\\r\\nFinale of Devastation\\r\\nFastbond\\r\\nOath of Druids\\r\\nSurvival of the Fittest\\r\\nSylvan Library\\r\\nCourser of Kruphix\\r\\nGaea's Cradle\\r\\nReflector Mage\\r\\nTeferi, Time Raveler\\r\\nTeferi, Hero of Dominaria\\r\\nFractured Identity\\r\\nCelestial Colonnade\\r\\nFlooded Strand\\r\\nHallowed Fountain\\r\\nIrrigated Farmland\\r\\nTundra\\r\\nPsychatog\\r\\nHostage Taker\\r\\nBaleful Strix\\r\\nLim-Dûl's Vault\\r\\nCreeping Tar Pit\\r\\nFetid Pools\\r\\nPolluted Delta\\r\\nUnderground Sea\\r\\nWatery Grave\\r\\nRakdos Cackler\\r\\nJudith, the Scourge Diva\\r\\nFalkenrath Aristocrat\\r\\nMurderous Redcap\\r\\nDaretti, Ingenious Iconoclast\\r\\nKolaghan's Command\\r\\nBadlands\\r\\nBlood Crypt\\r\\nBloodstained Mire\\r\\nLavaclaw Reaches\\r\\nOrcish Lumberjack\\r\\nBloodbraid Elf\\r\\nDragonlord Atarka\\r\\nWrenn and Six\\r\\nGrove of the Burnwillows\\r\\nRaging Ravine\\r\\nStomping Ground\\r\\nTaiga\\r\\nWooded Foothills\\r\\nKitchen Finks\\r\\nKnight of Autumn\\r\\nEladamri's Call\\r\\nNature's Chant\\r\\nHorizon Canopy\\r\\nSavannah\\r\\nStirring Wildwood\\r\\nTemple Garden\\r\\nWindswept Heath\\r\\nLingering Souls\\r\\nSorin, Lord of Innistrad\\r\\nTidehollow Sculler\\r\\nVindicate\\r\\nUnburial Rites\\r\\nGodless Shrine\\r\\nMarsh Flats\\r\\nScrubland\\r\\nShambling Vent\\r\\nSilent Clearing\\r\\nDeathrite Shaman\\r\\nVraska, Golgari Queen\\r\\nAssassin's Trophy\\r\\nMaelstrom Pulse\\r\\nPernicious Deed\\r\\nBayou\\r\\nHissing Quagmire\\r\\nNurturing Peatland\\r\\nOvergrown Tomb\\r\\nVerdant Catacombs\\r\\nNissa, Steward of Elements\\r\\nOko, Thief of Crowns\\r\\nBreeding Pool\\r\\nLumbering Falls\\r\\nMisty Rainforest\\r\\nTropical Island\\r\\nWaterlogged Grove\\r\\nDack Fayden\\r\\nSaheeli, Sublime Artificer\\r\\nSaheeli, the Gifted\\r\\nFire // Ice\\r\\nIzzet Charm\\r\\nFiery Islet\\r\\nScalding Tarn\\r\\nSteam Vents\\r\\nVolcanic Island\\r\\nWandering Fumarole\\r\\nFigure of Destiny\\r\\nAjani Vengeant\\r\\nNahiri, the Harbinger\\r\\nLightning Helix\\r\\nArid Mesa\\r\\nNeedle Spires\\r\\nPlateau\\r\\nSacred Foundry\\r\\nSunbaked Canyon\\r\\nSphinx of the Steel Wind\\r\\nNicol Bolas, the Ravager\\r\\nLeovold, Emissary of Trest\\r\\nThought-Knot Seer\\r\\nUlamog, the Ceaseless Hunger\\r\\nEmrakul, the Promised End\\r\\nEmrakul, the Aeons Torn\\r\\nKarn, Scion of Urza\\r\\nKarn Liberated\\r\\nUgin, the Spirit Dragon\\r\\nHangarback Walker\\r\\nMetallic Mimic\\r\\nPhyrexian Revoker\\r\\nWalking Ballista\\r\\nMetalworker\\r\\nPhyrexian Metamorph\\r\\nSolemn Simulacrum\\r\\nGolos, Tireless Pilgrim\\r\\nWurmcoil Engine\\r\\nMyr Battlesphere\\r\\nSundering Titan\\r\\nAncient Stone Idol\\r\\nChrome Mox\\r\\nJeweled Amulet\\r\\nLotus Petal\\r\\nMox Diamond\\r\\nBonesplitter\\r\\nCursed Scroll\\r\\nSensei's Divining Top\\r\\nSkullclamp\\r\\nEngineered Explosives\\r\\nEverflowing Chalice\\r\\nGrim Monolith\\r\\nLightning Greaves\\r\\nScroll Rack\\r\\nSmuggler's Copter\\r\\nSorcerous Spyglass\\r\\nTalisman of Conviction\\r\\nTalisman of Creativity\\r\\nTalisman of Curiosity\\r\\nTalisman of Dominance\\r\\nTalisman of Hierarchy\\r\\nTalisman of Impulse\\r\\nTalisman of Indulgence\\r\\nTalisman of Progress\\r\\nTalisman of Resilience\\r\\nTalisman of Unity\\r\\nUmezawa's Jitte\\r\\nWinter Orb\\r\\nBasalt Monolith\\r\\nCoalition Relic\\r\\nCrucible of Worlds\\r\\nGrafted Wargear\\r\\nHeirloom Blade\\r\\nSword of Body and Mind\\r\\nSword of Feast and Famine\\r\\nSword of Fire and Ice\\r\\nSword of Sinew and Steel\\r\\nTangle Wire\\r\\nWorn Powerstone\\r\\nHedron Archive\\r\\nSmokestack\\r\\nThran Dynamo\\r\\nBatterskull\\r\\nGilded Lotus\\r\\nMemory Jar\\r\\nMindslaver\\r\\nDismember\\r\\nGitaxian Probe\\r\\nAncient Tomb\\r\\nAsh Barrens\\r\\nBlast Zone\\r\\nCity of Brass\\r\\nCity of Traitors\\r\\nCrystal Vein\\r\\nDust Bowl\\r\\nEvolving Wilds\\r\\nFabled Passage\\r\\nGemstone Mine\\r\\nGrand Coliseum\\r\\nMana Confluence\\r\\nMaze of Ith\\r\\nMishra's Factory\\r\\nMutavault\\r\\nPhyrexian Tower\\r\\nPrismatic Vista\\r\\nReflecting Pool\\r\\nRishadan Port\\r\\nStrip Mine\\r\\nSulfurous Springs\\r\\nUndiscovered Paradise\\r\\nWasteland\\r\\nBrazen Borrower\\r\\nFae of Wishes\\r\\nMurderous Rider\\r\\nEmbereth Shieldbreaker\\r\\nBonecrusher Giant\\r\\nParallax Wave\\r\\nShatter the Sky\\r\\nContainment Priest\\r\\nRemote Farm\\r\\nGideon of the Trials\\r\\nGideon Blackblade\\r\\nElspeth, Sun's Nemesis\\r\\nArchangel of Thune\\r\\nThassa's Oracle\\r\\nJace, Wielder of Mysteries\\r\\nThassa's Intervention\\r\\nSaprazzan Skerry\\r\\nWoe Strider\\r\\nLanguish\\r\\nDemonic Consultation\\r\\nPeat Bog\\r\\nAnafenza, Kin-Tree Spirit\\r\\nHickory Woodlot\\r\\nSpike Feeder\\r\\nVivien's Arkbow\\r\\nUro, Titan of Nature's Wrath\\r\\nPorcelain Legionnaire\\r\\nSandstone Needle\\r\\nMind Stone\\r\\nTainted Pact\\r\\nHeliod, Sun-Crowned\\r\\nPhyrexian Altar\\r\\nAshnod's Altar\\r\\nPutrid Goblin\\r\\nThunderblust\\r\\nJinxed Idol\\r\\nAltar of Dementia\\r\\nGrumgully, the Generous\\r\\nGingerbrute\\r\\nHex Parasite\\r\\nHydroid Krasis\\r\\nPolukranos, World Eater\\r\\nShrine of Burning Rage\\r\\nGood-Fortune Unicorn\\r\\n\""
      ]
     },
     "execution_count": 15,
     "metadata": {},
     "output_type": "execute_result"
    }
   ],
   "source": [
    "response.text"
   ]
  },
  {
   "cell_type": "code",
   "execution_count": null,
   "metadata": {},
   "outputs": [],
   "source": []
  }
 ],
 "metadata": {
  "kernelspec": {
   "display_name": "Python 3",
   "language": "python",
   "name": "python3"
  },
  "language_info": {
   "codemirror_mode": {
    "name": "ipython",
    "version": 3
   },
   "file_extension": ".py",
   "mimetype": "text/x-python",
   "name": "python",
   "nbconvert_exporter": "python",
   "pygments_lexer": "ipython3",
   "version": "3.6.9"
  }
 },
 "nbformat": 4,
 "nbformat_minor": 4
}
