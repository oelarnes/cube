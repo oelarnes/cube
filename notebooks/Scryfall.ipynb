{
 "cells": [
  {
   "cell_type": "code",
   "execution_count": 1,
   "metadata": {},
   "outputs": [],
   "source": [
    "import pymongo"
   ]
  },
  {
   "cell_type": "code",
   "execution_count": 2,
   "metadata": {},
   "outputs": [],
   "source": [
    "client = pymongo.MongoClient()"
   ]
  },
  {
   "cell_type": "code",
   "execution_count": 7,
   "metadata": {},
   "outputs": [],
   "source": [
    "db = client['scryfall']"
   ]
  },
  {
   "cell_type": "code",
   "execution_count": 26,
   "metadata": {},
   "outputs": [],
   "source": [
    "API_URL = 'https://api.scryfall.com/bulk-data/default_cards'"
   ]
  },
  {
   "cell_type": "code",
   "execution_count": 10,
   "metadata": {},
   "outputs": [],
   "source": [
    "import requests"
   ]
  },
  {
   "cell_type": "code",
   "execution_count": 27,
   "metadata": {},
   "outputs": [],
   "source": [
    "result = requests.get(API_URL)"
   ]
  },
  {
   "cell_type": "code",
   "execution_count": 28,
   "metadata": {},
   "outputs": [
    {
     "data": {
      "text/plain": [
       "<Response [200]>"
      ]
     },
     "execution_count": 28,
     "metadata": {},
     "output_type": "execute_result"
    }
   ],
   "source": [
    "result"
   ]
  },
  {
   "cell_type": "code",
   "execution_count": 29,
   "metadata": {},
   "outputs": [],
   "source": [
    "cards = result.json()"
   ]
  },
  {
   "cell_type": "code",
   "execution_count": 30,
   "metadata": {},
   "outputs": [
    {
     "data": {
      "text/plain": [
       "{'object': 'bulk_data',\n",
       " 'id': 'e2ef41e3-5778-4bc2-af3f-78eca4dd9c23',\n",
       " 'type': 'default_cards',\n",
       " 'updated_at': '2024-01-07T22:05:08.108+00:00',\n",
       " 'uri': 'https://api.scryfall.com/bulk-data/e2ef41e3-5778-4bc2-af3f-78eca4dd9c23',\n",
       " 'name': 'Default Cards',\n",
       " 'description': 'A JSON file containing every card object on Scryfall in English or the printed language if the card is only available in one language.',\n",
       " 'size': 416236983,\n",
       " 'download_uri': 'https://data.scryfall.io/default-cards/default-cards-20240107220508.json',\n",
       " 'content_type': 'application/json',\n",
       " 'content_encoding': 'gzip'}"
      ]
     },
     "execution_count": 30,
     "metadata": {},
     "output_type": "execute_result"
    }
   ],
   "source": [
    "cards"
   ]
  },
  {
   "cell_type": "code",
   "execution_count": 31,
   "metadata": {},
   "outputs": [],
   "source": [
    "download_url = cards['download_uri']"
   ]
  },
  {
   "cell_type": "code",
   "execution_count": 32,
   "metadata": {},
   "outputs": [],
   "source": [
    "cards = requests.get(cards['download_uri'])"
   ]
  },
  {
   "cell_type": "code",
   "execution_count": 33,
   "metadata": {},
   "outputs": [],
   "source": [
    "out_cards = cards.json()"
   ]
  },
  {
   "cell_type": "code",
   "execution_count": 35,
   "metadata": {},
   "outputs": [
    {
     "data": {
      "text/plain": [
       "['R']"
      ]
     },
     "execution_count": 35,
     "metadata": {},
     "output_type": "execute_result"
    }
   ],
   "source": [
    "out_cards[0]['color_identity']"
   ]
  },
  {
   "cell_type": "code",
   "execution_count": 36,
   "metadata": {},
   "outputs": [],
   "source": [
    "card = out_cards[0]"
   ]
  },
  {
   "cell_type": "code",
   "execution_count": 37,
   "metadata": {},
   "outputs": [
    {
     "data": {
      "text/plain": [
       "6.0"
      ]
     },
     "execution_count": 37,
     "metadata": {},
     "output_type": "execute_result"
    }
   ],
   "source": [
    "card['cmc']"
   ]
  },
  {
   "cell_type": "code",
   "execution_count": 40,
   "metadata": {},
   "outputs": [
    {
     "data": {
      "text/plain": [
       "90632"
      ]
     },
     "execution_count": 40,
     "metadata": {},
     "output_type": "execute_result"
    }
   ],
   "source": [
    "len(out_cards)"
   ]
  },
  {
   "cell_type": "code",
   "execution_count": 42,
   "metadata": {},
   "outputs": [],
   "source": [
    "maros = [card for card in cards if card['name'] == 'Maro']"
   ]
  },
  {
   "cell_type": "code",
   "execution_count": 45,
   "metadata": {},
   "outputs": [
    {
     "data": {
      "text/plain": [
       "11"
      ]
     },
     "execution_count": 45,
     "metadata": {},
     "output_type": "execute_result"
    }
   ],
   "source": [
    "len(maro)"
   ]
  },
  {
   "cell_type": "code",
   "execution_count": 47,
   "metadata": {},
   "outputs": [
    {
     "data": {
      "text/plain": [
       "{'object': 'card',\n",
       " 'id': '9695a29d-fd19-422b-a5a7-15cd218c8876',\n",
       " 'oracle_id': 'ef32258a-d567-4fbc-ab85-8c00080f5b36',\n",
       " 'multiverse_ids': [],\n",
       " 'tcgplayer_id': 11224,\n",
       " 'name': 'Maro',\n",
       " 'lang': 'en',\n",
       " 'released_at': '2003-07-28',\n",
       " 'uri': 'https://api.scryfall.com/cards/9695a29d-fd19-422b-a5a7-15cd218c8876',\n",
       " 'scryfall_uri': 'https://scryfall.com/card/8ed/264%E2%98%85/maro?utm_source=api',\n",
       " 'layout': 'normal',\n",
       " 'highres_image': True,\n",
       " 'image_status': 'highres_scan',\n",
       " 'image_uris': {'small': 'https://cards.scryfall.io/small/front/9/6/9695a29d-fd19-422b-a5a7-15cd218c8876.jpg?1675829952',\n",
       "  'normal': 'https://cards.scryfall.io/normal/front/9/6/9695a29d-fd19-422b-a5a7-15cd218c8876.jpg?1675829952',\n",
       "  'large': 'https://cards.scryfall.io/large/front/9/6/9695a29d-fd19-422b-a5a7-15cd218c8876.jpg?1675829952',\n",
       "  'png': 'https://cards.scryfall.io/png/front/9/6/9695a29d-fd19-422b-a5a7-15cd218c8876.png?1675829952',\n",
       "  'art_crop': 'https://cards.scryfall.io/art_crop/front/9/6/9695a29d-fd19-422b-a5a7-15cd218c8876.jpg?1675829952',\n",
       "  'border_crop': 'https://cards.scryfall.io/border_crop/front/9/6/9695a29d-fd19-422b-a5a7-15cd218c8876.jpg?1675829952'},\n",
       " 'mana_cost': '{2}{G}{G}',\n",
       " 'cmc': 4.0,\n",
       " 'type_line': 'Creature — Elemental',\n",
       " 'oracle_text': \"Maro's power and toughness are each equal to the number of cards in your hand.\",\n",
       " 'power': '*',\n",
       " 'toughness': '*',\n",
       " 'colors': ['G'],\n",
       " 'color_identity': ['G'],\n",
       " 'keywords': [],\n",
       " 'legalities': {'standard': 'not_legal',\n",
       "  'future': 'not_legal',\n",
       "  'historic': 'not_legal',\n",
       "  'timeless': 'not_legal',\n",
       "  'gladiator': 'not_legal',\n",
       "  'pioneer': 'not_legal',\n",
       "  'explorer': 'not_legal',\n",
       "  'modern': 'legal',\n",
       "  'legacy': 'legal',\n",
       "  'pauper': 'not_legal',\n",
       "  'vintage': 'legal',\n",
       "  'penny': 'legal',\n",
       "  'commander': 'legal',\n",
       "  'oathbreaker': 'legal',\n",
       "  'brawl': 'not_legal',\n",
       "  'historicbrawl': 'not_legal',\n",
       "  'alchemy': 'not_legal',\n",
       "  'paupercommander': 'not_legal',\n",
       "  'duel': 'legal',\n",
       "  'oldschool': 'not_legal',\n",
       "  'premodern': 'legal',\n",
       "  'predh': 'legal'},\n",
       " 'games': ['paper', 'mtgo'],\n",
       " 'reserved': False,\n",
       " 'foil': True,\n",
       " 'nonfoil': False,\n",
       " 'finishes': ['foil'],\n",
       " 'oversized': False,\n",
       " 'promo': False,\n",
       " 'reprint': True,\n",
       " 'variation': False,\n",
       " 'set_id': 'cae8d29d-5979-4d8f-884d-7f3183bcc886',\n",
       " 'set': '8ed',\n",
       " 'set_name': 'Eighth Edition',\n",
       " 'set_type': 'core',\n",
       " 'set_uri': 'https://api.scryfall.com/sets/cae8d29d-5979-4d8f-884d-7f3183bcc886',\n",
       " 'set_search_uri': 'https://api.scryfall.com/cards/search?order=set&q=e%3A8ed&unique=prints',\n",
       " 'scryfall_set_uri': 'https://scryfall.com/sets/8ed?utm_source=api',\n",
       " 'rulings_uri': 'https://api.scryfall.com/cards/9695a29d-fd19-422b-a5a7-15cd218c8876/rulings',\n",
       " 'prints_search_uri': 'https://api.scryfall.com/cards/search?order=released&q=oracleid%3Aef32258a-d567-4fbc-ab85-8c00080f5b36&unique=prints',\n",
       " 'collector_number': '264★',\n",
       " 'digital': False,\n",
       " 'rarity': 'rare',\n",
       " 'flavor_text': 'No two see the same Maro.',\n",
       " 'card_back_id': '0aeebaf5-8c7d-4636-9e82-8c27447861f7',\n",
       " 'artist': 'Stuart Griffin',\n",
       " 'artist_ids': ['8df59511-f31c-461f-8a7d-0271aa1f973d'],\n",
       " 'illustration_id': '4b9e544a-ac3a-435b-b771-df0e4a2f59c4',\n",
       " 'border_color': 'black',\n",
       " 'frame': '2003',\n",
       " 'full_art': False,\n",
       " 'textless': False,\n",
       " 'booster': True,\n",
       " 'story_spotlight': False,\n",
       " 'edhrec_rank': 15977,\n",
       " 'penny_rank': 14393,\n",
       " 'prices': {'usd': None,\n",
       "  'usd_foil': '0.66',\n",
       "  'usd_etched': None,\n",
       "  'eur': None,\n",
       "  'eur_foil': None,\n",
       "  'tix': None},\n",
       " 'related_uris': {'tcgplayer_infinite_articles': 'https://tcgplayer.pxf.io/c/4931599/1830156/21018?subId1=api&trafcat=infinite&u=https%3A%2F%2Finfinite.tcgplayer.com%2Fsearch%3FcontentMode%3Darticle%26game%3Dmagic%26partner%3Dscryfall%26q%3DMaro',\n",
       "  'tcgplayer_infinite_decks': 'https://tcgplayer.pxf.io/c/4931599/1830156/21018?subId1=api&trafcat=infinite&u=https%3A%2F%2Finfinite.tcgplayer.com%2Fsearch%3FcontentMode%3Ddeck%26game%3Dmagic%26partner%3Dscryfall%26q%3DMaro',\n",
       "  'edhrec': 'https://edhrec.com/route/?cc=Maro'},\n",
       " 'purchase_uris': {'tcgplayer': 'https://tcgplayer.pxf.io/c/4931599/1830156/21018?subId1=api&u=https%3A%2F%2Fwww.tcgplayer.com%2Fproduct%2F11224%3Fpage%3D1',\n",
       "  'cardmarket': 'https://www.cardmarket.com/en/Magic/Products/Search?referrer=scryfall&searchString=Maro&utm_campaign=card_prices&utm_medium=text&utm_source=scryfall',\n",
       "  'cardhoarder': 'https://www.cardhoarder.com/cards?affiliate_id=scryfall&data%5Bsearch%5D=Maro&ref=card-profile&utm_campaign=affiliate&utm_medium=card&utm_source=scryfall'}}"
      ]
     },
     "execution_count": 47,
     "metadata": {},
     "output_type": "execute_result"
    }
   ],
   "source": [
    "maro[5]"
   ]
  },
  {
   "cell_type": "code",
   "execution_count": null,
   "metadata": {},
   "outputs": [],
   "source": []
  }
 ],
 "metadata": {
  "kernelspec": {
   "display_name": "Python 3",
   "language": "python",
   "name": "python3"
  },
  "language_info": {
   "codemirror_mode": {
    "name": "ipython",
    "version": 3
   },
   "file_extension": ".py",
   "mimetype": "text/x-python",
   "name": "python",
   "nbconvert_exporter": "python",
   "pygments_lexer": "ipython3",
   "version": "3.6.9"
  }
 },
 "nbformat": 4,
 "nbformat_minor": 4
}
